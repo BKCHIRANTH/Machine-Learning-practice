{
 "cells": [
  {
   "cell_type": "code",
   "execution_count": 62,
   "metadata": {},
   "outputs": [],
   "source": [
    "import numpy as np\n",
    "import pandas as pd \n",
    "#from IPython.display import Image"
   ]
  },
  {
   "cell_type": "code",
   "execution_count": 63,
   "metadata": {},
   "outputs": [],
   "source": [
    "#Input array\n",
    "X=np.array([[0,0],[0,1],[1,0]])\n",
    "\n",
    "#Output\n",
    "y=np.array([[0],[1],[1]])"
   ]
  },
  {
   "cell_type": "code",
   "execution_count": 64,
   "metadata": {},
   "outputs": [
    {
     "data": {
      "text/plain": [
       "array([[0, 0, 0],\n",
       "       [0, 1, 1],\n",
       "       [1, 0, 1]])"
      ]
     },
     "execution_count": 64,
     "metadata": {},
     "output_type": "execute_result"
    }
   ],
   "source": [
    "np.hstack([X, y])\n"
   ]
  },
  {
   "cell_type": "code",
   "execution_count": 65,
   "metadata": {},
   "outputs": [],
   "source": [
    "#Image('./nnets-example_sketch1-2.png')"
   ]
  },
  {
   "cell_type": "code",
   "execution_count": 72,
   "metadata": {},
   "outputs": [
    {
     "name": "stdout",
     "output_type": "stream",
     "text": [
      "2\n",
      "1\n"
     ]
    }
   ],
   "source": [
    "\n",
    "# Parameters of the NN\n",
    "n_iter = 20\n",
    "learning_rate = 0.1\n",
    "input_layer_nodes = X.shape[1]\n",
    "print(input_layer_nodes)\n",
    "hidden_layer_nodes = 2\n",
    "output_layer_nodes = y.shape[1]\n",
    "print(output_layer_nodes)"
   ]
  },
  {
   "cell_type": "code",
   "execution_count": 73,
   "metadata": {},
   "outputs": [
    {
     "name": "stdout",
     "output_type": "stream",
     "text": [
      "[[0.87989752 0.43004583]\n",
      " [0.73869908 0.31832002]]\n",
      "****************************************************************************************************\n",
      "[[0.81744794 0.8325138  0.83554343]]\n",
      "[[0.8152219  0.83032456 0.83336272]]\n",
      "[[0.81298841 0.82812585 0.83117209]]\n",
      "[[0.81074861 0.82591883 0.82897269]]\n",
      "[[0.80850365 0.82370464 0.82676566]]\n",
      "[[0.80625473 0.8214845  0.82455223]]\n",
      "[[0.80400304 0.81925962 0.82233359]]\n",
      "[[0.80174981 0.81703124 0.82011101]]\n",
      "[[0.79949626 0.81480062 0.81788573]]\n",
      "[[0.79724364 0.81256904 0.81565903]]\n",
      "[[0.79499319 0.81033777 0.81343221]]\n",
      "[[0.79274617 0.80810811 0.81120657]]\n",
      "[[0.79050383 0.80588137 0.80898341]]\n",
      "[[0.78826742 0.80365882 0.80676402]]\n",
      "[[0.78603818 0.80144178 0.80454973]]\n",
      "[[0.78381733 0.79923152 0.80234182]]\n",
      "[[0.7816061  0.79702933 0.80014158]]\n",
      "[[0.77940569 0.79483647 0.7979503 ]]\n",
      "[[0.77721726 0.79265418 0.79576922]]\n",
      "[[0.77504199 0.79048369 0.79359959]]\n"
     ]
    }
   ],
   "source": [
    "def sigmoid(x) : \n",
    "    return(1.0 / (1.0 + np.exp(-x)))\n",
    "\n",
    "def derivative_sigmoid(x) : \n",
    "    return(x * (1 - x))\n",
    "\n",
    "\n",
    "weights_i_h = np.random.uniform(size=(input_layer_nodes, hidden_layer_nodes))\n",
    "print(weights_i_h)\n",
    "print(\"*\" *100)\n",
    "bias_i_h = np.random.uniform(size=(1, hidden_layer_nodes))\n",
    "\n",
    "weights_h_o = np.random.uniform(size = (hidden_layer_nodes, output_layer_nodes))\n",
    "bias_h_o = np.random.uniform(size=(1, output_layer_nodes))\n",
    "\n",
    "\n",
    "# Feed Forward\n",
    "for i in range(n_iter) : \n",
    "    hidden_layer_association = np.dot(X, weights_i_h) + bias_i_h\n",
    "    hidden_layer_activation = sigmoid (hidden_layer_association)\n",
    " \n",
    "    output_layer_association = np.dot(hidden_layer_activation, weights_h_o) + bias_h_o\n",
    "    output_layer_activation = sigmoid(output_layer_association)\n",
    "    prediction = output_layer_activation\n",
    "    \n",
    "    # Back Propagation \n",
    "    \n",
    "    error = y - prediction\n",
    "    #print(\"Error is:\",error)\n",
    "    slope_output_layer = derivative_sigmoid(prediction)\n",
    "    slope_hidden_layer = derivative_sigmoid(hidden_layer_activation)\n",
    "    \n",
    "    d_output_layer = error * slope_output_layer\n",
    "    \n",
    "    error_hidden_layer = d_output_layer.dot (weights_h_o.T)\n",
    "    d_hidden_layer = error_hidden_layer * slope_hidden_layer\n",
    "    \n",
    "    weights_h_o += hidden_layer_activation.T.dot(d_output_layer) * learning_rate\n",
    "    bias_h_o += np.sum(d_output_layer) * learning_rate\n",
    "    \n",
    "    weights_i_h += X.T.dot(d_hidden_layer) * learning_rate\n",
    "    bias_i_h += np.sum(d_hidden_layer) * learning_rate\n",
    "    \n",
    "    print(prediction.T)"
   ]
  },
  {
   "cell_type": "markdown",
   "metadata": {},
   "source": [
    "### Predicting from the Neural Network"
   ]
  },
  {
   "cell_type": "code",
   "execution_count": 74,
   "metadata": {},
   "outputs": [
    {
     "name": "stdout",
     "output_type": "stream",
     "text": [
      "[[0.80100307]]\n"
     ]
    }
   ],
   "source": [
    "test_data = np.array([[1,1]])\n",
    "\n",
    "hidden_layer_association = np.dot(test_data, weights_i_h) + bias_i_h\n",
    "hidden_layer_activation = sigmoid (hidden_layer_association)\n",
    "\n",
    "output_layer_association = np.dot(hidden_layer_activation, weights_h_o) + bias_h_o\n",
    "output_layer_activation = sigmoid(output_layer_association)\n",
    "prediction = output_layer_activation\n",
    "print(prediction)"
   ]
  },
  {
   "cell_type": "code",
   "execution_count": null,
   "metadata": {},
   "outputs": [],
   "source": []
  }
 ],
 "metadata": {
  "kernelspec": {
   "display_name": "Python 3",
   "language": "python",
   "name": "python3"
  },
  "language_info": {
   "codemirror_mode": {
    "name": "ipython",
    "version": 3
   },
   "file_extension": ".py",
   "mimetype": "text/x-python",
   "name": "python",
   "nbconvert_exporter": "python",
   "pygments_lexer": "ipython3",
   "version": "3.6.0"
  }
 },
 "nbformat": 4,
 "nbformat_minor": 2
}
