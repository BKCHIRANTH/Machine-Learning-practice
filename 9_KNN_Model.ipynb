{
 "cells": [
  {
   "cell_type": "markdown",
   "metadata": {},
   "source": [
    "### Write a program to implement k-Nearest Neighbour algorithm to classify the iris data set. Print both correct and wrong predictions. Java/Python ML library classes can be used for this problem."
   ]
  },
  {
   "cell_type": "code",
   "execution_count": 1,
   "metadata": {},
   "outputs": [],
   "source": [
    "import numpy as np\n",
    "import pandas as pd\n",
    "import matplotlib.pyplot as plt\n",
    "\n",
    "\n",
    "from sklearn.datasets import load_iris\n",
    "from sklearn.neighbors import KNeighborsClassifier\n",
    "\n",
    "from sklearn.model_selection import train_test_split \n",
    "\n",
    "from sklearn.metrics import accuracy_score, confusion_matrix"
   ]
  },
  {
   "cell_type": "code",
   "execution_count": 7,
   "metadata": {},
   "outputs": [
    {
     "name": "stdout",
     "output_type": "stream",
     "text": [
      "[0 0 0 0 0 0 0 0 0 0 0 0 0 0 0 0 0 0 0 0 0 0 0 0 0 0 0 0 0 0 0 0 0 0 0 0 0\n",
      " 0 0 0 0 0 0 0 0 0 0 0 0 0 1 1 1 1 1 1 1 1 1 1 1 1 1 1 1 1 1 1 1 1 1 1 1 1\n",
      " 1 1 1 1 1 1 1 1 1 1 1 1 1 1 1 1 1 1 1 1 1 1 1 1 1 1 2 2 2 2 2 2 2 2 2 2 2\n",
      " 2 2 2 2 2 2 2 2 2 2 2 2 2 2 2 2 2 2 2 2 2 2 2 2 2 2 2 2 2 2 2 2 2 2 2 2 2\n",
      " 2 2]\n",
      "Size of Iris dataset :  (150, 4)\n",
      "Size of Iris dataset :  (150,)\n"
     ]
    }
   ],
   "source": [
    "iris = load_iris()\n",
    "\n",
    "x = iris.data\n",
    "y = iris.target\n",
    "print(y)\n",
    "print('Size of Iris dataset : ', x.shape)\n",
    "print('Size of Iris dataset : ', y.shape)"
   ]
  },
  {
   "cell_type": "code",
   "execution_count": 20,
   "metadata": {},
   "outputs": [],
   "source": [
    "x_train, x_test, y_train, y_test = train_test_split(x, y, test_size = 0.3)"
   ]
  },
  {
   "cell_type": "code",
   "execution_count": 21,
   "metadata": {},
   "outputs": [
    {
     "name": "stdout",
     "output_type": "stream",
     "text": [
      "Size of Train dataset :  (105, 4)\n",
      "Size of Train targets :  (105,)\n",
      "Size of Test dataset :  (45, 4)\n",
      "Size of Test targets :  (45,)\n"
     ]
    }
   ],
   "source": [
    "print('Size of Train dataset : ', x_train.shape)\n",
    "print('Size of Train targets : ', y_train.shape)\n",
    "\n",
    "print('Size of Test dataset : ', x_test.shape)\n",
    "print('Size of Test targets : ', y_test.shape)"
   ]
  },
  {
   "cell_type": "code",
   "execution_count": 22,
   "metadata": {},
   "outputs": [
    {
     "data": {
      "text/plain": [
       "KNeighborsClassifier(algorithm='auto', leaf_size=30, metric='minkowski',\n",
       "           metric_params=None, n_jobs=None, n_neighbors=5, p=2,\n",
       "           weights='uniform')"
      ]
     },
     "execution_count": 22,
     "metadata": {},
     "output_type": "execute_result"
    }
   ],
   "source": [
    "knn_model = KNeighborsClassifier(n_neighbors=5)\n",
    "\n",
    "knn_model.fit(x_train, y_train)"
   ]
  },
  {
   "cell_type": "code",
   "execution_count": 23,
   "metadata": {},
   "outputs": [
    {
     "name": "stdout",
     "output_type": "stream",
     "text": [
      "[2 2 2 1 2 0 1 1 1 0 2 1 2 0 0 2 1 0 1 1 1 0 0 0 1 1 0 0 1 1 1 2 0 2 0 0 1\n",
      " 0 1 0 2 1 2 2 0]\n"
     ]
    }
   ],
   "source": [
    "predictions = knn_model.predict(x_test)\n",
    "print(predictions)"
   ]
  },
  {
   "cell_type": "code",
   "execution_count": 25,
   "metadata": {},
   "outputs": [
    {
     "name": "stdout",
     "output_type": "stream",
     "text": [
      "Training accuracy Score is :  0.9619047619047619\n",
      "Testing accuracy Score is :  0.9777777777777777\n",
      "Training Confusion Matrix is : \n",
      " [[34  0  0]\n",
      " [ 0 31  3]\n",
      " [ 0  1 36]]\n",
      "Testing Confusion Matrix is : \n",
      " [[16  0  0]\n",
      " [ 0 16  0]\n",
      " [ 0  1 12]]\n"
     ]
    }
   ],
   "source": [
    "print(\"Training accuracy Score is : \", accuracy_score(y_train, knn_model.predict(x_train)))\n",
    "print(\"Testing accuracy Score is : \", accuracy_score(y_test, knn_model.predict(x_test)))\n",
    "\n",
    "\n",
    "print(\"Training Confusion Matrix is : \\n\", confusion_matrix(y_train, knn_model.predict(x_train)))\n",
    "print(\"Testing Confusion Matrix is : \\n\", confusion_matrix(y_test, knn_model.predict(x_test)))\n"
   ]
  },
  {
   "cell_type": "code",
   "execution_count": null,
   "metadata": {},
   "outputs": [],
   "source": []
  }
 ],
 "metadata": {
  "kernelspec": {
   "display_name": "Python 3",
   "language": "python",
   "name": "python3"
  },
  "language_info": {
   "codemirror_mode": {
    "name": "ipython",
    "version": 3
   },
   "file_extension": ".py",
   "mimetype": "text/x-python",
   "name": "python",
   "nbconvert_exporter": "python",
   "pygments_lexer": "ipython3",
   "version": "3.6.0"
  }
 },
 "nbformat": 4,
 "nbformat_minor": 2
}
